{
  "nbformat": 4,
  "nbformat_minor": 0,
  "metadata": {
    "colab": {
      "name": "Boston-House-Prices-GD-Linear-Regression.ipynb",
      "provenance": [],
      "collapsed_sections": [],
      "machine_shape": "hm",
      "authorship_tag": "ABX9TyM80uhKKvVAYNhY3KxyUaYW",
      "include_colab_link": true
    },
    "kernelspec": {
      "name": "python3",
      "display_name": "Python 3"
    },
    "language_info": {
      "name": "python"
    },
    "accelerator": "GPU"
  },
  "cells": [
    {
      "cell_type": "markdown",
      "metadata": {
        "id": "view-in-github",
        "colab_type": "text"
      },
      "source": [
        "<a href=\"https://colab.research.google.com/github/anandababugudipudi/Boston-House-Prices-GD-Linear-Regression/blob/main/Boston_House_Prices_GD_Linear_Regression.ipynb\" target=\"_parent\"><img src=\"https://colab.research.google.com/assets/colab-badge.svg\" alt=\"Open In Colab\"/></a>"
      ]
    },
    {
      "cell_type": "markdown",
      "metadata": {
        "id": "UVhBZSTqOqcC"
      },
      "source": [
        "#**Boston House Prices Prediction using Linear Regression using GD**"
      ]
    },
    {
      "cell_type": "markdown",
      "metadata": {
        "id": "vVxbE2uYPTE-"
      },
      "source": [
        "###**Linear Regression** \n",
        "Linear Regression is a predictive modeling technique that finds a relationship between independent variable(s) and dependent variable(s). The independent variable(iv)’s can be categorical or continuous, while dependent variable(dv)s are continuous. Underlying function mapping iv’s and dv’s can be linear, quadratic, polynomial or other non-linear functions(like sigmoid function in logistic regression).\n",
        "\n",
        "> Regression techniques are heavily used in making real estate price prediction, financial forecasting, predicting traffic arrival time (ETA)."
      ]
    },
    {
      "cell_type": "markdown",
      "metadata": {
        "id": "s845dTvkQSuM"
      },
      "source": [
        "###**Importing the necessary packages**"
      ]
    },
    {
      "cell_type": "code",
      "metadata": {
        "id": "fhc6wnpHQf7v"
      },
      "source": [
        "import numpy as np\n",
        "import pandas as pd\n",
        "import torch \n",
        "import matplotlib.pyplot as plt"
      ],
      "execution_count": null,
      "outputs": []
    },
    {
      "cell_type": "markdown",
      "metadata": {
        "id": "DqSwmcFvQgYt"
      },
      "source": [
        "###**Importing the Dataset**\n",
        "The Boston House prices dataset consists of 506 samples with 13 features with prices ranging from 5.0 to 50.0. Each record in the database describes a Boston suburb or town. The data was drawn from the Boston Standard Metropolitan Statistical Area (SMSA) in 1970. The attributes are deﬁned as follows (taken from the UCI Machine Learning Repository\n"
      ]
    },
    {
      "cell_type": "code",
      "metadata": {
        "id": "WsLSVAD7Q79R"
      },
      "source": [
        "col_names = ['CRIM', 'ZN', 'INDUS', 'CHAS', 'NOX', 'RM', 'AGE', 'DIS', 'RAD', 'TAX', 'PTRATIO', 'B', 'LSTAT', 'MEDV']\n",
        "# Reading the csv file into numpy array\n",
        "data = pd.read_csv('./boston-house-prices.csv', header = None, delimiter = r\"\\s+\", names = col_names)\n",
        "data.head()"
      ],
      "execution_count": null,
      "outputs": []
    },
    {
      "cell_type": "code",
      "metadata": {
        "colab": {
          "base_uri": "https://localhost:8080/"
        },
        "id": "3HTwrf29SVib",
        "outputId": "4203c6a5-cb2d-462d-d015-f755c93ade0f"
      },
      "source": [
        "# Separating the features and labels in the dataset\n",
        "features = data.drop('MEDV', axis = 1)\n",
        "labels = data['MEDV']\n",
        "print(features)\n",
        "print(labels)"
      ],
      "execution_count": null,
      "outputs": [
        {
          "output_type": "stream",
          "text": [
            "        CRIM    ZN  INDUS  CHAS    NOX  ...  RAD    TAX  PTRATIO       B  LSTAT\n",
            "0    0.00632  18.0   2.31     0  0.538  ...    1  296.0     15.3  396.90   4.98\n",
            "1    0.02731   0.0   7.07     0  0.469  ...    2  242.0     17.8  396.90   9.14\n",
            "2    0.02729   0.0   7.07     0  0.469  ...    2  242.0     17.8  392.83   4.03\n",
            "3    0.03237   0.0   2.18     0  0.458  ...    3  222.0     18.7  394.63   2.94\n",
            "4    0.06905   0.0   2.18     0  0.458  ...    3  222.0     18.7  396.90   5.33\n",
            "..       ...   ...    ...   ...    ...  ...  ...    ...      ...     ...    ...\n",
            "501  0.06263   0.0  11.93     0  0.573  ...    1  273.0     21.0  391.99   9.67\n",
            "502  0.04527   0.0  11.93     0  0.573  ...    1  273.0     21.0  396.90   9.08\n",
            "503  0.06076   0.0  11.93     0  0.573  ...    1  273.0     21.0  396.90   5.64\n",
            "504  0.10959   0.0  11.93     0  0.573  ...    1  273.0     21.0  393.45   6.48\n",
            "505  0.04741   0.0  11.93     0  0.573  ...    1  273.0     21.0  396.90   7.88\n",
            "\n",
            "[506 rows x 13 columns]\n",
            "0      24.0\n",
            "1      21.6\n",
            "2      34.7\n",
            "3      33.4\n",
            "4      36.2\n",
            "       ... \n",
            "501    22.4\n",
            "502    20.6\n",
            "503    23.9\n",
            "504    22.0\n",
            "505    11.9\n",
            "Name: MEDV, Length: 506, dtype: float64\n"
          ],
          "name": "stdout"
        }
      ]
    },
    {
      "cell_type": "code",
      "metadata": {
        "id": "eTjMkHMsS2iq"
      },
      "source": [
        "# Converting the pandas dataframes into PyTorch Tensors\n",
        "# From here onwards our features are inputs and labels are targets\n",
        "inputs = torch.tensor(features.values).float()\n",
        "targets = torch.tensor(labels.values).float()\n",
        "print(inputs)\n",
        "print(targets)"
      ],
      "execution_count": null,
      "outputs": []
    },
    {
      "cell_type": "code",
      "metadata": {
        "id": "sSt0D6UsVxX0"
      },
      "source": [
        "# Shape of inputs and targets\n",
        "print(f\"Shape of inputs is {inputs.shape}\")\n",
        "print(f\"Shape of labels is {targets.shape}\")"
      ],
      "execution_count": null,
      "outputs": []
    },
    {
      "cell_type": "markdown",
      "metadata": {
        "id": "X_sjC0baVdRc"
      },
      "source": [
        "###**Linear Regression Model from scratch**\n",
        "\n",
        "The weights and biases (`w11, w12,... w23, b1 & b2`) can also be represented as matrices, initialized as random values. The first row of `w` and the first element of `b` are used to predict the first target variable, i.e., yield of apples, and similarly, the second for oranges."
      ]
    },
    {
      "cell_type": "code",
      "metadata": {
        "id": "0WLOagkFVke6"
      },
      "source": [
        "# Weights and Biases\n",
        "w = torch.randn(506, 13, requires_grad = True)\n",
        "b = torch.randn(506, requires_grad = True)\n",
        "print(w)\n",
        "print(b)"
      ],
      "execution_count": null,
      "outputs": []
    },
    {
      "cell_type": "markdown",
      "metadata": {
        "id": "JDtrIpdbWM3i"
      },
      "source": [
        "Our model is simply a function that performs a matrix multiplication of the `features` and the weights `w` (transposed) and adds the bias `b` (replicated for each observation).\n",
        "\n",
        "> **X** `x` **W**<sup>T</sup> + **b**\n",
        "\n",
        "We can define the model as follows:"
      ]
    },
    {
      "cell_type": "code",
      "metadata": {
        "id": "_K9PWp0-Wax5"
      },
      "source": [
        "# Define the model\n",
        "def model(x):\n",
        "  return x @ w.t() + b"
      ],
      "execution_count": null,
      "outputs": []
    },
    {
      "cell_type": "markdown",
      "metadata": {
        "id": "3MdCTD5dXX0h"
      },
      "source": [
        "`@` represents matrix multiplication in PyTorch, and the `.t` method returns the transpose of a tensor.\n",
        "\n",
        "The matrix obtained by passing the input data into the model is a set of predictions for the target variables."
      ]
    },
    {
      "cell_type": "code",
      "metadata": {
        "id": "dQe84_TqXY9e"
      },
      "source": [
        "# Generate the predictions on our inputs\n",
        "preds = model(inputs)\n",
        "print(preds)"
      ],
      "execution_count": null,
      "outputs": []
    },
    {
      "cell_type": "markdown",
      "metadata": {
        "id": "eVYxYdhTX6aY"
      },
      "source": [
        "Let's compare the predictions of our model with the actual targets."
      ]
    },
    {
      "cell_type": "code",
      "metadata": {
        "id": "VYZ0VvXXX-sO"
      },
      "source": [
        "# Compare with targets\n",
        "print(targets)"
      ],
      "execution_count": null,
      "outputs": []
    },
    {
      "cell_type": "markdown",
      "metadata": {
        "id": "J-ZZOUkoYNOM"
      },
      "source": [
        "There is a big difference between our model's predictions and the actual targets because we've initialized our model with random weights and biases. Obviously, we can't expect a randomly initialized model to *just work*."
      ]
    },
    {
      "cell_type": "markdown",
      "metadata": {
        "id": "CxxpWGkfYUds"
      },
      "source": [
        "###**Loss function**\n",
        "\n",
        "Before we improve our model, we need a way to evaluate how well our model is performing. We can compare the model's predictions with the actual targets using the following method:\n",
        "\n",
        "* Calculate the difference between the two matrices (`preds` and `targets`).\n",
        "* Square all elements of the difference matrix to remove negative values.\n",
        "* Calculate the average of the elements in the resulting matrix.\n",
        "\n",
        "The result is a single number, known as the **mean squared error** (MSE)."
      ]
    },
    {
      "cell_type": "code",
      "metadata": {
        "id": "fNrYegbUY_IX"
      },
      "source": [
        "# Define a function to find MSE loss\n",
        "def mse(t1, t2):\n",
        "  diff = t1 - t2\n",
        "  return torch.sum(diff * diff) / diff.numel()"
      ],
      "execution_count": null,
      "outputs": []
    },
    {
      "cell_type": "markdown",
      "metadata": {
        "id": "Mpk76_YsZP3-"
      },
      "source": [
        "`torch.sum` returns the sum of all the elements in a tensor. The `.numel` method of a tensor returns the number of elements in a tensor. Let's compute the mean squared error for the current predictions of our model."
      ]
    },
    {
      "cell_type": "code",
      "metadata": {
        "id": "O89PLxKeZSpZ"
      },
      "source": [
        "# Let's compute the loss\n",
        "loss = mse(preds, targets)\n",
        "print(loss)"
      ],
      "execution_count": null,
      "outputs": []
    },
    {
      "cell_type": "markdown",
      "metadata": {
        "id": "0ka4vOZGZhq1"
      },
      "source": [
        "Interpret the result: *On average, each element in the prediction differs from the actual target by the square root of the loss*. And that’s pretty bad, considering the numbers we are trying to predict are themselves in the range of 5 - 50. The result is called the *loss* because it indicates how bad the model is at predicting the target variables. It represents information loss in the model: the lower the loss, the better the model."
      ]
    },
    {
      "cell_type": "markdown",
      "metadata": {
        "id": "tQ_aumEDaHm0"
      },
      "source": [
        "###**Compute gradients**\n",
        "\n",
        "With PyTorch, we can automatically compute the gradient or derivative of the loss w.r.t. to the weights and biases because they have `requires_grad` set to `True`. We'll see how this is useful in just a moment."
      ]
    },
    {
      "cell_type": "code",
      "metadata": {
        "id": "YImMl7UsaMjK"
      },
      "source": [
        "# Compute gradients\n",
        "loss.backward()"
      ],
      "execution_count": null,
      "outputs": []
    },
    {
      "cell_type": "markdown",
      "metadata": {
        "id": "-HvFWFhmaZ-e"
      },
      "source": [
        "The gradients are stored in the `.grad` property of the respective tensors. Note that the derivative of the loss w.r.t. the weights matrix is itself a matrix with the same dimensions."
      ]
    },
    {
      "cell_type": "code",
      "metadata": {
        "id": "tAwM-SQTabGV"
      },
      "source": [
        "# Gradients for weights\n",
        "print(w)\n",
        "print(w.grad)"
      ],
      "execution_count": null,
      "outputs": []
    },
    {
      "cell_type": "code",
      "metadata": {
        "id": "sTowLcDEahP6"
      },
      "source": [
        "# Gradients for bias\n",
        "print(b)\n",
        "print(b.grad)"
      ],
      "execution_count": null,
      "outputs": []
    },
    {
      "cell_type": "markdown",
      "metadata": {
        "id": "VZJA1cRaar_X"
      },
      "source": [
        "###**Adjust weights and biases to reduce the loss**\n",
        "\n",
        "The loss is a [quadratic function](https://en.wikipedia.org/wiki/Quadratic_function) of our weights and biases, and our objective is to find the set of weights where the loss is the lowest. If we plot a graph of the loss w.r.t any individual weight or bias element, it will look like the figure shown below. An important insight from calculus is that the gradient indicates the rate of change of the loss, i.e., the loss function's [slope](https://en.wikipedia.org/wiki/Slope) w.r.t. the weights and biases.\n",
        "\n",
        "If a gradient element is **positive**:\n",
        "\n",
        "* **increasing** the weight element's value slightly will **increase** the loss\n",
        "* **decreasing** the weight element's value slightly will **decrease** the loss\n",
        "\n",
        "![postive-gradient](https://i.imgur.com/WLzJ4xP.png)\n",
        "\n",
        "If a gradient element is **negative**:\n",
        "\n",
        "* **increasing** the weight element's value slightly will **decrease** the loss\n",
        "* **decreasing** the weight element's value slightly will **increase** the loss\n",
        "\n",
        "![negative=gradient](https://i.imgur.com/dvG2fxU.png)\n",
        "\n",
        "The increase or decrease in the loss by changing a weight element is proportional to the gradient of the loss w.r.t. that element. This observation forms the basis of _the gradient descent_ optimization algorithm that we'll use to improve our model (by _descending_ along the _gradient_).\n",
        "\n",
        "We can subtract from each weight element a small quantity proportional to the derivative of the loss w.r.t. that element to reduce the loss slightly."
      ]
    },
    {
      "cell_type": "code",
      "metadata": {
        "id": "iezy8yWigKSu"
      },
      "source": [
        "with torch.no_grad():\n",
        "  w -= w.grad * 1e-5\n",
        "  b -= b.grad * 1e-5"
      ],
      "execution_count": null,
      "outputs": []
    },
    {
      "cell_type": "markdown",
      "metadata": {
        "id": "VfcrTnfag1RG"
      },
      "source": [
        "We multiply the gradients with a very small number (`10^-5` in this case) to ensure that we don't modify the weights by a very large amount. We want to take a small step in the downhill direction of the gradient, not a giant leap. This number is called the *learning rate* of the algorithm. \n",
        "\n",
        "We use `torch.no_grad` to indicate to PyTorch that we shouldn't track, calculate, or modify gradients while updating the weights and biases."
      ]
    },
    {
      "cell_type": "code",
      "metadata": {
        "id": "waVjevvug3VW"
      },
      "source": [
        "# Let's verify that the loss is actually lower\n",
        "loss = mse(preds, targets)\n",
        "print(loss)"
      ],
      "execution_count": null,
      "outputs": []
    },
    {
      "cell_type": "markdown",
      "metadata": {
        "id": "tO0xAu6ShKeE"
      },
      "source": [
        "Before we proceed, we reset the gradients to zero by invoking the `.zero_()` method. We need to do this because PyTorch accumulates gradients. Otherwise, the next time we invoke `.backward` on the loss, the new gradient values are added to the existing gradients, which may lead to unexpected results."
      ]
    },
    {
      "cell_type": "code",
      "metadata": {
        "id": "DM2_kgMmhNjj"
      },
      "source": [
        "w.grad.zero_()\n",
        "b.grad.zero_()\n",
        "print(w.grad)\n",
        "print(b.grad)"
      ],
      "execution_count": null,
      "outputs": []
    },
    {
      "cell_type": "markdown",
      "metadata": {
        "id": "6YcQVbA9hRMq"
      },
      "source": [
        "###**Train the model using gradient descent**\n",
        "\n",
        "As seen above, we reduce the loss and improve our model using the gradient descent optimization algorithm. Thus, we can _train_ the model using the following steps:\n",
        "\n",
        "1. Generate predictions\n",
        "\n",
        "2. Calculate the loss\n",
        "\n",
        "3. Compute gradients w.r.t the weights and biases\n",
        "\n",
        "4. Adjust the weights by subtracting a small quantity proportional to the gradient\n",
        "\n",
        "5. Reset the gradients to zero\n",
        "\n",
        "Let's implement the above step by step."
      ]
    },
    {
      "cell_type": "code",
      "metadata": {
        "id": "YgGwEombhbQT"
      },
      "source": [
        "# 1. Generate predictions\n",
        "preds = model(inputs)\n",
        "print(preds)"
      ],
      "execution_count": null,
      "outputs": []
    },
    {
      "cell_type": "code",
      "metadata": {
        "id": "pQkHqC3Ghoo2"
      },
      "source": [
        "# 2. Calculate the loss\n",
        "loss = mse(preds, targets)\n",
        "print(loss)"
      ],
      "execution_count": null,
      "outputs": []
    },
    {
      "cell_type": "code",
      "metadata": {
        "id": "wRZ1EKYyhwCb"
      },
      "source": [
        "# 3. Compute gradients w.r.t. weights and biases\n",
        "loss.backward()\n",
        "print(w.grad)\n",
        "print(b.grad)"
      ],
      "execution_count": null,
      "outputs": []
    },
    {
      "cell_type": "code",
      "metadata": {
        "id": "9G_QQ3agh-Dr"
      },
      "source": [
        "\n",
        "with torch.no_grad():\n",
        "    w -= w.grad * 1e-5\n",
        "    b -= b.grad * 1e-5\n",
        "    w.grad.zero_()\n",
        "    b.grad.zero_()"
      ],
      "execution_count": null,
      "outputs": []
    },
    {
      "cell_type": "code",
      "metadata": {
        "id": "bfV3Yx7GiLBq"
      },
      "source": [
        "# New gradients and biases\n",
        "print(w)\n",
        "print(b)"
      ],
      "execution_count": null,
      "outputs": []
    },
    {
      "cell_type": "markdown",
      "metadata": {
        "id": "1M8NfGO3iTXJ"
      },
      "source": [
        "With the new weights and biases, the model should have a lower loss."
      ]
    },
    {
      "cell_type": "code",
      "metadata": {
        "id": "Dqbtm-IiiXBd"
      },
      "source": [
        "# Calculate the loss\n",
        "preds = model(inputs)\n",
        "loss = mse(preds, targets)\n",
        "print(loss)"
      ],
      "execution_count": null,
      "outputs": []
    },
    {
      "cell_type": "markdown",
      "metadata": {
        "id": "FuTOr1LNiiSb"
      },
      "source": [
        "We can alredy observe the change in the loss."
      ]
    },
    {
      "cell_type": "markdown",
      "metadata": {
        "id": "v6rc3XtPioaq"
      },
      "source": [
        "###**Train for multiple epochs**\n",
        "\n",
        "To reduce the loss further, we can repeat the process of adjusting the weights and biases using the gradients multiple times. Each iteration is called an _epoch_. Let's train the model for 1000 epochs."
      ]
    },
    {
      "cell_type": "code",
      "metadata": {
        "id": "VcdQGXJ_isWq"
      },
      "source": [
        "# Train for 1000 epochs\n",
        "for i in range(1000):\n",
        "  preds = model(inputs)\n",
        "  loss = mse(preds, targets)\n",
        "  loss.backward()\n",
        "  with torch.no_grad():\n",
        "    w -= w.grad * 1e-5\n",
        "    b -= b.grad * 1e-5\n",
        "    w.grad.zero_()\n",
        "    b.grad.zero_()\n",
        "\n",
        "# Calculate the loss once agian\n",
        "preds = model(inputs)\n",
        "loss = mse(preds, targets)\n",
        "print(loss)"
      ],
      "execution_count": null,
      "outputs": []
    },
    {
      "cell_type": "markdown",
      "metadata": {
        "id": "hCAjuA-Al81P"
      },
      "source": [
        "#**Let's put all the code together**"
      ]
    },
    {
      "cell_type": "code",
      "metadata": {
        "id": "GD_4wXsbmBk2"
      },
      "source": [
        "# Importing the necessary packages\n",
        "import numpy as np\n",
        "import pandas as pd\n",
        "import torch \n",
        "import math\n",
        "import matplotlib.pyplot as plt\n",
        "\n",
        "# Importing the Dataset\n",
        "col_names = ['CRIM', 'ZN', 'INDUS', 'CHAS', 'NOX', 'RM', 'AGE', 'DIS', 'RAD', 'TAX', 'PTRATIO', 'B', 'LSTAT', 'MEDV']\n",
        "# Reading the csv file into numpy array\n",
        "data = pd.read_csv('./boston-house-prices.csv', header = None, delimiter = r\"\\s+\", names = col_names)\n",
        "\n",
        "# Separating the features and labels in the dataset\n",
        "features = data.drop('MEDV', axis = 1)\n",
        "labels = data['MEDV']\n",
        "\n",
        "# Converting the pandas dataframes into PyTorch Tensors\n",
        "# From here onwards our features are inputs and labels are targets\n",
        "inputs = torch.tensor(features.values).float()\n",
        "targets = torch.tensor(labels.values).float()\n",
        "\n",
        "# Shape of inputs and targets\n",
        "print(f\"Shape of inputs is {inputs.shape}\")\n",
        "print(f\"Shape of labels is {targets.shape}\")\n",
        "\n",
        "# Weights and Biases\n",
        "w = torch.randn(506, 13, requires_grad = True)\n",
        "b = torch.randn(506, requires_grad = True)\n",
        "\n",
        "# Define the model\n",
        "def model(x):\n",
        "  return x @ w.t() + b\n",
        "\n",
        "# Define a function to find MSE loss\n",
        "def mse(t1, t2):\n",
        "  diff = t1 - t2\n",
        "  return torch.sum(diff * diff) / diff.numel()\n",
        "\n",
        "# Train the model using Gradient Descent\n",
        "'''\n",
        "We can train the model using the following steps:\n",
        "1. Generate predictions\n",
        "2. Calculate the loss\n",
        "3. Compute gradients w.r.t the weights and biases\n",
        "4. Adjust the weights by subtracting a small quantity proportional to the gradient\n",
        "5. Reset the gradients to zero\n",
        "'''\n",
        "def fit(inputs, targets, epochs, w, b):\n",
        "  # Train for n epochs\n",
        "  for epoch in range(epochs):\n",
        "    # 1. Generate predictions\n",
        "    preds = model(inputs)\n",
        "\n",
        "    # 2. Calculate the loss\n",
        "    loss = mse(preds, targets)\n",
        "\n",
        "    # 3. Compute gradients w.r.t. weights and biases\n",
        "    loss.backward()\n",
        "\n",
        "    # 4. Adjust weights and 5. reset gradients\n",
        "    with torch.no_grad():\n",
        "      w -= w.grad * 1e-5\n",
        "      b -= b.grad * 1e-5\n",
        "      w.grad.zero_()\n",
        "      b.grad.zero_()\n",
        "    # Print the progress\n",
        "    if (epoch + 1) % 100 == 0:\n",
        "      print(f\"Epoch [{epoch+1}/{epochs}], Loss : {round(loss.item(),4)}\")\n",
        "# Initially we are training the model with 1000 epochs\n",
        "epochs = 1000\n",
        "fit(inputs, targets, epochs, w, b)\n",
        "model(inputs[0])"
      ],
      "execution_count": null,
      "outputs": []
    }
  ]
}